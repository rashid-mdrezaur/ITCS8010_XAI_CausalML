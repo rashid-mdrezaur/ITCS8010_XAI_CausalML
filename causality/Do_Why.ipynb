{
 "cells": [
  {
   "cell_type": "code",
   "execution_count": 1,
   "id": "handled-release",
   "metadata": {},
   "outputs": [],
   "source": [
    "# Required libraries\n",
    "import dowhy\n",
    "from dowhy import CausalModel\n",
    "import dowhy.datasets\n",
    "import pandas as pd\n",
    "import dowhy.plotter\n",
    "\n",
    "# Avoiding unnecessary log messges and warnings\n",
    "import logging\n",
    "logging.getLogger(\"dowhy\").setLevel(logging.WARNING)\n",
    "import warnings\n",
    "from sklearn.exceptions import DataConversionWarning\n",
    "warnings.filterwarnings(action='ignore', category=DataConversionWarning)"
   ]
  },
  {
   "cell_type": "code",
   "execution_count": 2,
   "id": "worldwide-mystery",
   "metadata": {},
   "outputs": [
    {
     "name": "stdout",
     "output_type": "stream",
     "text": [
      "Index(['hazard', 'median_year_built', 'occupancy', 'walls', 'roofing',\n",
      "       'roof_type', 'percent_owner_occupied', 'median_age',\n",
      "       'percent_african_american', 'service_ind', 'income_poverty',\n",
      "       'per_capita_income', 'secondary_hazard_31', 'roughness_2', 'target'],\n",
      "      dtype='object')\n"
     ]
    }
   ],
   "source": [
    "kk = ['hazard', 'median_year_built', 'occupancy', 'walls', 'roofing',\\\n",
    "      'roof_type', 'percent_owner_occupied', 'median_age', 'percent_african_american',\\\n",
    "      'service_ind','income_poverty', 'per_capita_income', 'secondary_hazard_31',\\\n",
    "      'roughness_2', 'target']\n",
    "\n",
    "df = pd.read_csv('../data/preprocessed.csv')\n",
    "for i in df.columns:\n",
    "    if i not in kk:\n",
    "        df.drop(i, axis =1, inplace = True)\n",
    "\n",
    "\n",
    "print(df.columns)"
   ]
  },
  {
   "cell_type": "code",
   "execution_count": 3,
   "id": "described-laundry",
   "metadata": {},
   "outputs": [],
   "source": [
    "data = dowhy.datasets.linear_dataset(\n",
    "    beta=10,\n",
    "    num_common_causes=5,\n",
    "    num_instruments=2,\n",
    "    num_samples=10000,\n",
    "    treatment_is_binary=True) "
   ]
  },
  {
   "cell_type": "code",
   "execution_count": 4,
   "id": "falling-nevada",
   "metadata": {},
   "outputs": [],
   "source": [
    "causal_data = {}\n",
    "causal_data['first'] = {'data':df, 'treatment':['walls'], 'outcome' : ['target']\\\n",
    "                       , 'common_causes_names' : ['roof_type', 'occupancy','median_age'\\\n",
    "                                                  ,'percent_african_american', 'service_ind', 'income_poverty'\\\n",
    "                                                  , 'per_capita_income', 'secondary_hazard_31', 'roughness_2'\\\n",
    "                                                  , 'hazard', 'roofing']\n",
    "                       , 'instrument_names' : ['median_year_built', 'percent_owner_occupied']} \n",
    "\n",
    "causal_data['second'] = {'data':df, 'treatment':['per_capita_income'], 'outcome' : ['target']\\\n",
    "                       , 'common_causes_names' : ['roof_type', 'occupancy', 'percent_african_american'\\\n",
    "                                                  , 'walls', 'secondary_hazard_31', 'roughness_2'\\\n",
    "                                                  , 'hazard', 'roofing', 'median_year_built', 'percent_owner_occupied']\n",
    "                       , 'instrument_names' : ['service_ind', 'income_poverty', 'median_age']}\n",
    "\n",
    "causal_data['third'] = {'data':df, 'treatment':['hazard'], 'outcome' : ['target']\\\n",
    "                       , 'common_causes_names' : ['roof_type', 'occupancy', 'percent_african_american'\\\n",
    "                                                  , 'walls', 'secondary_hazard_31', 'roughness_2'\\\n",
    "                                                  , 'per_capita_income', 'roofing', 'median_year_built'\\\n",
    "                                                  , 'percent_owner_occupied', 'service_ind', 'income_poverty', 'median_age']} "
   ]
  },
  {
   "cell_type": "markdown",
   "id": "derived-sydney",
   "metadata": {},
   "source": [
    "# MODEL_1\n",
    "## Q.1 Does the 'wall_material' of the building cause severity_of_the_damage? "
   ]
  },
  {
   "cell_type": "code",
   "execution_count": 5,
   "id": "opposed-moderator",
   "metadata": {},
   "outputs": [],
   "source": [
    "model_1 = CausalModel(data = causal_data['first'][\"data\"], \n",
    "                      treatment = causal_data['first'][\"treatment\"][0],\n",
    "                      outcome = causal_data['first'][\"outcome\"][0],\n",
    "                      common_causes = causal_data['first'][\"common_causes_names\"],\n",
    "                      intrumental_variables = causal_data['first'][\"instrument_names\"]) "
   ]
  },
  {
   "cell_type": "code",
   "execution_count": 6,
   "id": "exempt-paragraph",
   "metadata": {},
   "outputs": [],
   "source": [
    "#model_1.view_model(layout=\"dot\")"
   ]
  },
  {
   "cell_type": "markdown",
   "id": "characteristic-halifax",
   "metadata": {},
   "source": [
    "### IDENTIFICATION"
   ]
  },
  {
   "cell_type": "code",
   "execution_count": 7,
   "id": "liquid-density",
   "metadata": {},
   "outputs": [
    {
     "name": "stdout",
     "output_type": "stream",
     "text": [
      "Estimand type: nonparametric-ate\n",
      "\n",
      "### Estimand : 1\n",
      "Estimand name: backdoor\n",
      "Estimand expression:\n",
      "   d                                                                          \n",
      "────────(Expectation(target|percent_african_american,service_ind,median_age,oc\n",
      "d[walls]                                                                      \n",
      "\n",
      "                                                                              \n",
      "cupancy,secondary_hazard_31,roughness_2,per_capita_income,roofing,hazard,incom\n",
      "                                                                              \n",
      "\n",
      "                     \n",
      "e_poverty,roof_type))\n",
      "                     \n",
      "Estimand assumption 1, Unconfoundedness: If U→{walls} and U→target then P(target|walls,percent_african_american,service_ind,median_age,occupancy,secondary_hazard_31,roughness_2,per_capita_income,roofing,hazard,income_poverty,roof_type,U) = P(target|walls,percent_african_american,service_ind,median_age,occupancy,secondary_hazard_31,roughness_2,per_capita_income,roofing,hazard,income_poverty,roof_type)\n",
      "\n",
      "### Estimand : 2\n",
      "Estimand name: iv\n",
      "No such variable found!\n",
      "\n",
      "### Estimand : 3\n",
      "Estimand name: frontdoor\n",
      "No such variable found!\n",
      "\n"
     ]
    }
   ],
   "source": [
    "identified_estimand_1 = model_1.identify_effect(proceed_when_unidentifiable=True)\n",
    "print(identified_estimand_1)"
   ]
  },
  {
   "cell_type": "markdown",
   "id": "unexpected-investor",
   "metadata": {},
   "source": [
    "## ESTIMATION"
   ]
  },
  {
   "cell_type": "markdown",
   "id": "amino-reservation",
   "metadata": {},
   "source": [
    "### LINEAR"
   ]
  },
  {
   "cell_type": "code",
   "execution_count": 8,
   "id": "czech-worst",
   "metadata": {},
   "outputs": [
    {
     "name": "stdout",
     "output_type": "stream",
     "text": [
      "*** Causal Estimate ***\n",
      "\n",
      "## Identified estimand\n",
      "Estimand type: nonparametric-ate\n",
      "\n",
      "### Estimand : 1\n",
      "Estimand name: backdoor\n",
      "Estimand expression:\n",
      "   d                                                                          \n",
      "────────(Expectation(target|percent_african_american,service_ind,median_age,oc\n",
      "d[walls]                                                                      \n",
      "\n",
      "                                                                              \n",
      "cupancy,secondary_hazard_31,roughness_2,per_capita_income,roofing,hazard,incom\n",
      "                                                                              \n",
      "\n",
      "                     \n",
      "e_poverty,roof_type))\n",
      "                     \n",
      "Estimand assumption 1, Unconfoundedness: If U→{walls} and U→target then P(target|walls,percent_african_american,service_ind,median_age,occupancy,secondary_hazard_31,roughness_2,per_capita_income,roofing,hazard,income_poverty,roof_type,U) = P(target|walls,percent_african_american,service_ind,median_age,occupancy,secondary_hazard_31,roughness_2,per_capita_income,roofing,hazard,income_poverty,roof_type)\n",
      "\n",
      "## Realized estimand\n",
      "b: target~walls+percent_african_american+service_ind+median_age+occupancy+secondary_hazard_31+roughness_2+per_capita_income+roofing+hazard+income_poverty+roof_type\n",
      "Target units: ate\n",
      "\n",
      "## Estimate\n",
      "Mean value: -0.24096272481831482\n",
      "\n",
      "Causal Estimate is -0.24096272481831482\n"
     ]
    }
   ],
   "source": [
    "causal_estimate_reg_1  = model_1.estimate_effect(identified_estimand_1,\n",
    "                                 method_name=\"backdoor.linear_regression\")\n",
    "\n",
    "print(causal_estimate_reg_1 )\n",
    "print(\"Causal Estimate is \" + str(causal_estimate_reg_1.value))"
   ]
  },
  {
   "cell_type": "code",
   "execution_count": 9,
   "id": "opposite-lesson",
   "metadata": {},
   "outputs": [],
   "source": [
    "#dowhy.plotter.plot_causal_effect(causal_estimate_reg, df['walls'], df['target'])"
   ]
  },
  {
   "cell_type": "markdown",
   "id": "impressed-enemy",
   "metadata": {},
   "source": [
    "### NON-LINEAR"
   ]
  },
  {
   "cell_type": "code",
   "execution_count": 10,
   "id": "treated-senator",
   "metadata": {},
   "outputs": [
    {
     "name": "stdout",
     "output_type": "stream",
     "text": [
      "*** Causal Estimate ***\n",
      "\n",
      "## Identified estimand\n",
      "Estimand type: nonparametric-ate\n",
      "\n",
      "### Estimand : 1\n",
      "Estimand name: backdoor\n",
      "Estimand expression:\n",
      "   d                                                                          \n",
      "────────(Expectation(target|percent_african_american,service_ind,median_age,oc\n",
      "d[walls]                                                                      \n",
      "\n",
      "                                                                              \n",
      "cupancy,secondary_hazard_31,roughness_2,per_capita_income,roofing,hazard,incom\n",
      "                                                                              \n",
      "\n",
      "                     \n",
      "e_poverty,roof_type))\n",
      "                     \n",
      "Estimand assumption 1, Unconfoundedness: If U→{walls} and U→target then P(target|walls,percent_african_american,service_ind,median_age,occupancy,secondary_hazard_31,roughness_2,per_capita_income,roofing,hazard,income_poverty,roof_type,U) = P(target|walls,percent_african_american,service_ind,median_age,occupancy,secondary_hazard_31,roughness_2,per_capita_income,roofing,hazard,income_poverty,roof_type)\n",
      "\n",
      "## Realized estimand\n",
      "b: target~walls+percent_african_american+service_ind+median_age+occupancy+secondary_hazard_31+roughness_2+per_capita_income+roofing+hazard+income_poverty+roof_type | \n",
      "Target units: ate\n",
      "\n",
      "## Estimate\n",
      "Mean value: -0.015805944713441298\n",
      "Effect estimates: [-0.01580594 -0.01580594 -0.01580594 -0.01580594 -0.01580594 -0.01580594\n",
      " -0.01580594 -0.01580594 -0.01580594 -0.01580594 -0.01580594 -0.01580594\n",
      " -0.01580594 -0.01580594 -0.01580594 -0.01580594 -0.01580594 -0.01580594\n",
      " -0.01580594 -0.01580594 -0.01580594 -0.01580594 -0.01580594 -0.01580594\n",
      " -0.01580594 -0.01580594 -0.01580594 -0.01580594 -0.01580594 -0.01580594\n",
      " -0.01580594 -0.01580594 -0.01580594 -0.01580594 -0.01580594 -0.01580594\n",
      " -0.01580594 -0.01580594 -0.01580594 -0.01580594 -0.01580594 -0.01580594\n",
      " -0.01580594 -0.01580594 -0.01580594 -0.01580594 -0.01580594 -0.01580594\n",
      " -0.01580594 -0.01580594 -0.01580594 -0.01580594 -0.01580594 -0.01580594\n",
      " -0.01580594 -0.01580594 -0.01580594 -0.01580594 -0.01580594 -0.01580594\n",
      " -0.01580594 -0.01580594 -0.01580594 -0.01580594 -0.01580594 -0.01580594\n",
      " -0.01580594 -0.01580594 -0.01580594 -0.01580594 -0.01580594 -0.01580594\n",
      " -0.01580594 -0.01580594 -0.01580594 -0.01580594 -0.01580594 -0.01580594\n",
      " -0.01580594 -0.01580594 -0.01580594 -0.01580594 -0.01580594 -0.01580594\n",
      " -0.01580594 -0.01580594 -0.01580594 -0.01580594 -0.01580594 -0.01580594\n",
      " -0.01580594 -0.01580594 -0.01580594 -0.01580594 -0.01580594 -0.01580594\n",
      " -0.01580594 -0.01580594 -0.01580594 -0.01580594 -0.01580594 -0.01580594\n",
      " -0.01580594 -0.01580594 -0.01580594 -0.01580594 -0.01580594 -0.01580594\n",
      " -0.01580594 -0.01580594 -0.01580594 -0.01580594 -0.01580594 -0.01580594\n",
      " -0.01580594 -0.01580594 -0.01580594]\n",
      "\n"
     ]
    }
   ],
   "source": [
    "from sklearn.preprocessing import PolynomialFeatures\n",
    "from sklearn.linear_model import LassoCV\n",
    "from sklearn.ensemble import GradientBoostingRegressor\n",
    "dml_estimate_1 = model_1.estimate_effect(identified_estimand_1, method_name=\"backdoor.econml.dml.DML\",\n",
    "                                     control_value = 0,\n",
    "                                     treatment_value = 1,\n",
    "                                 confidence_intervals=False,\n",
    "                                method_params={\"init_params\":{'model_y':GradientBoostingRegressor(),\n",
    "                                                              'model_t': GradientBoostingRegressor(),\n",
    "                                                              \"model_final\":LassoCV(fit_intercept=False),\n",
    "                                                              'featurizer':PolynomialFeatures(degree=2, include_bias=True)},\n",
    "                                               \"fit_params\":{}})\n",
    "print(dml_estimate_1)"
   ]
  },
  {
   "cell_type": "markdown",
   "id": "elder-conducting",
   "metadata": {},
   "source": [
    "## REFUTATION  "
   ]
  },
  {
   "cell_type": "markdown",
   "id": "received-junior",
   "metadata": {},
   "source": [
    "### Linear"
   ]
  },
  {
   "cell_type": "markdown",
   "id": "sought-iraqi",
   "metadata": {},
   "source": [
    "##### Add Random Common Cause: Does the estimation method change its estimate after we add an independent random variable as a common cause to the dataset? (Hint: It should not)"
   ]
  },
  {
   "cell_type": "code",
   "execution_count": 11,
   "id": "silent-cheat",
   "metadata": {},
   "outputs": [
    {
     "name": "stdout",
     "output_type": "stream",
     "text": [
      "Refute: Add a Random Common Cause\n",
      "Estimated effect:-0.24096272481831482\n",
      "New effect:-0.22721724757113382\n",
      "\n"
     ]
    }
   ],
   "source": [
    "res_random = model_1.refute_estimate(identified_estimand_1, causal_estimate_reg_1, method_name=\"random_common_cause\")\n",
    "print(res_random)"
   ]
  },
  {
   "cell_type": "markdown",
   "id": "sufficient-people",
   "metadata": {},
   "source": [
    "##### Placebo Treatment: What happens to the estimated causal effect when we replace the true treatment variable with an independent random variable? (Hint: the effect should go to zero)"
   ]
  },
  {
   "cell_type": "code",
   "execution_count": 12,
   "id": "olive-store",
   "metadata": {},
   "outputs": [
    {
     "name": "stdout",
     "output_type": "stream",
     "text": [
      "Refute: Use a Placebo Treatment\n",
      "Estimated effect:-0.24096272481831482\n",
      "New effect:-0.004946726113948436\n",
      "p value:0.48\n",
      "\n"
     ]
    }
   ],
   "source": [
    "res_placebo = model_1.refute_estimate(identified_estimand_1, causal_estimate_reg_1,\n",
    "                                    method_name=\"placebo_treatment_refuter\", \n",
    "                                    placebo_type=\"permute\",\n",
    "                                    num_simulations=500)\n",
    "print(res_placebo)"
   ]
  },
  {
   "cell_type": "markdown",
   "id": "stone-tractor",
   "metadata": {},
   "source": [
    "### Non_linear"
   ]
  },
  {
   "cell_type": "code",
   "execution_count": 13,
   "id": "collective-shock",
   "metadata": {},
   "outputs": [
    {
     "name": "stdout",
     "output_type": "stream",
     "text": [
      "Refute: Add a Random Common Cause\n",
      "Estimated effect:-0.015805944713441298\n",
      "New effect:-0.10976741492793367\n",
      "\n"
     ]
    }
   ],
   "source": [
    "res_random = model_1.refute_estimate(identified_estimand_1, dml_estimate_1, method_name=\"random_common_cause\")\n",
    "print(res_random)"
   ]
  },
  {
   "cell_type": "code",
   "execution_count": 14,
   "id": "present-agency",
   "metadata": {},
   "outputs": [
    {
     "name": "stdout",
     "output_type": "stream",
     "text": [
      "Refute: Use a Placebo Treatment\n",
      "Estimated effect:-0.015805944713441298\n",
      "New effect:0.01491487393473786\n",
      "p value:0.40381226883274157\n",
      "\n"
     ]
    }
   ],
   "source": [
    "res_placebo = model_1.refute_estimate(identified_estimand_1, dml_estimate_1,\n",
    "                                    method_name=\"placebo_treatment_refuter\", \n",
    "                                    placebo_type=\"permute\",\n",
    "                                    num_simulations=20)\n",
    "print(res_placebo)"
   ]
  },
  {
   "cell_type": "markdown",
   "id": "recorded-probability",
   "metadata": {},
   "source": [
    "# Model_2"
   ]
  },
  {
   "cell_type": "code",
   "execution_count": 15,
   "id": "hispanic-shannon",
   "metadata": {},
   "outputs": [],
   "source": [
    "model_2 = CausalModel(data = causal_data['second'][\"data\"], \n",
    "                      treatment = causal_data['second'][\"treatment\"][0],\n",
    "                      outcome = causal_data['second'][\"outcome\"][0],\n",
    "                      common_causes = causal_data['second'][\"common_causes_names\"],\n",
    "                      intrumental_variables = causal_data['second'][\"instrument_names\"]) "
   ]
  },
  {
   "cell_type": "code",
   "execution_count": 16,
   "id": "powerful-authentication",
   "metadata": {},
   "outputs": [
    {
     "name": "stdout",
     "output_type": "stream",
     "text": [
      "Estimand type: nonparametric-ate\n",
      "\n",
      "### Estimand : 1\n",
      "Estimand name: backdoor\n",
      "Estimand expression:\n",
      "         d                                                                    \n",
      "────────────────────(Expectation(target|walls,percent_african_american,occupan\n",
      "d[per_capita_income]                                                          \n",
      "\n",
      "                                                                              \n",
      "cy,secondary_hazard_31,roughness_2,median_year_built,percent_owner_occupied,ro\n",
      "                                                                              \n",
      "\n",
      "                        \n",
      "ofing,hazard,roof_type))\n",
      "                        \n",
      "Estimand assumption 1, Unconfoundedness: If U→{per_capita_income} and U→target then P(target|per_capita_income,walls,percent_african_american,occupancy,secondary_hazard_31,roughness_2,median_year_built,percent_owner_occupied,roofing,hazard,roof_type,U) = P(target|per_capita_income,walls,percent_african_american,occupancy,secondary_hazard_31,roughness_2,median_year_built,percent_owner_occupied,roofing,hazard,roof_type)\n",
      "\n",
      "### Estimand : 2\n",
      "Estimand name: iv\n",
      "No such variable found!\n",
      "\n",
      "### Estimand : 3\n",
      "Estimand name: frontdoor\n",
      "No such variable found!\n",
      "\n"
     ]
    }
   ],
   "source": [
    "identified_estimand_2 = model_2.identify_effect(proceed_when_unidentifiable=True)\n",
    "print(identified_estimand_2)"
   ]
  },
  {
   "cell_type": "markdown",
   "id": "direct-cuisine",
   "metadata": {},
   "source": [
    "### Linear Estimation"
   ]
  },
  {
   "cell_type": "code",
   "execution_count": 17,
   "id": "transsexual-russia",
   "metadata": {},
   "outputs": [
    {
     "name": "stdout",
     "output_type": "stream",
     "text": [
      "*** Causal Estimate ***\n",
      "\n",
      "## Identified estimand\n",
      "Estimand type: nonparametric-ate\n",
      "\n",
      "### Estimand : 1\n",
      "Estimand name: backdoor\n",
      "Estimand expression:\n",
      "         d                                                                    \n",
      "────────────────────(Expectation(target|walls,percent_african_american,occupan\n",
      "d[per_capita_income]                                                          \n",
      "\n",
      "                                                                              \n",
      "cy,secondary_hazard_31,roughness_2,median_year_built,percent_owner_occupied,ro\n",
      "                                                                              \n",
      "\n",
      "                        \n",
      "ofing,hazard,roof_type))\n",
      "                        \n",
      "Estimand assumption 1, Unconfoundedness: If U→{per_capita_income} and U→target then P(target|per_capita_income,walls,percent_african_american,occupancy,secondary_hazard_31,roughness_2,median_year_built,percent_owner_occupied,roofing,hazard,roof_type,U) = P(target|per_capita_income,walls,percent_african_american,occupancy,secondary_hazard_31,roughness_2,median_year_built,percent_owner_occupied,roofing,hazard,roof_type)\n",
      "\n",
      "## Realized estimand\n",
      "b: target~per_capita_income+walls+percent_african_american+occupancy+secondary_hazard_31+roughness_2+median_year_built+percent_owner_occupied+roofing+hazard+roof_type\n",
      "Target units: ate\n",
      "\n",
      "## Estimate\n",
      "Mean value: 0.19492766012127527\n",
      "\n",
      "Causal Estimate is 0.19492766012127527\n"
     ]
    }
   ],
   "source": [
    "causal_estimate_reg_2  = model_2.estimate_effect(identified_estimand_2,\n",
    "                                 method_name=\"backdoor.linear_regression\")\n",
    "\n",
    "print(causal_estimate_reg_2 )\n",
    "print(\"Causal Estimate is \" + str(causal_estimate_reg_2.value))"
   ]
  },
  {
   "cell_type": "markdown",
   "id": "sharp-metadata",
   "metadata": {},
   "source": [
    "### Non-Linear Estimation"
   ]
  },
  {
   "cell_type": "code",
   "execution_count": 18,
   "id": "streaming-luxury",
   "metadata": {},
   "outputs": [
    {
     "name": "stdout",
     "output_type": "stream",
     "text": [
      "*** Causal Estimate ***\n",
      "\n",
      "## Identified estimand\n",
      "Estimand type: nonparametric-ate\n",
      "\n",
      "### Estimand : 1\n",
      "Estimand name: backdoor\n",
      "Estimand expression:\n",
      "         d                                                                    \n",
      "────────────────────(Expectation(target|walls,percent_african_american,occupan\n",
      "d[per_capita_income]                                                          \n",
      "\n",
      "                                                                              \n",
      "cy,secondary_hazard_31,roughness_2,median_year_built,percent_owner_occupied,ro\n",
      "                                                                              \n",
      "\n",
      "                        \n",
      "ofing,hazard,roof_type))\n",
      "                        \n",
      "Estimand assumption 1, Unconfoundedness: If U→{per_capita_income} and U→target then P(target|per_capita_income,walls,percent_african_american,occupancy,secondary_hazard_31,roughness_2,median_year_built,percent_owner_occupied,roofing,hazard,roof_type,U) = P(target|per_capita_income,walls,percent_african_american,occupancy,secondary_hazard_31,roughness_2,median_year_built,percent_owner_occupied,roofing,hazard,roof_type)\n",
      "\n",
      "## Realized estimand\n",
      "b: target~per_capita_income+walls+percent_african_american+occupancy+secondary_hazard_31+roughness_2+median_year_built+percent_owner_occupied+roofing+hazard+roof_type | \n",
      "Target units: ate\n",
      "\n",
      "## Estimate\n",
      "Mean value: 0.0\n",
      "Effect estimates: [0. 0. 0. 0. 0. 0. 0. 0. 0. 0. 0. 0. 0. 0. 0. 0. 0. 0. 0. 0. 0. 0. 0. 0.\n",
      " 0. 0. 0. 0. 0. 0. 0. 0. 0. 0. 0. 0. 0. 0. 0. 0. 0. 0. 0. 0. 0. 0. 0. 0.\n",
      " 0. 0. 0. 0. 0. 0. 0. 0. 0. 0. 0. 0. 0. 0. 0. 0. 0. 0. 0. 0. 0. 0. 0. 0.\n",
      " 0. 0. 0. 0. 0. 0. 0. 0. 0. 0. 0. 0. 0. 0. 0. 0. 0. 0. 0. 0. 0. 0. 0. 0.\n",
      " 0. 0. 0. 0. 0. 0. 0. 0. 0. 0. 0. 0. 0. 0. 0. 0. 0. 0. 0. 0. 0.]\n",
      "\n"
     ]
    }
   ],
   "source": [
    "from sklearn.preprocessing import PolynomialFeatures\n",
    "from sklearn.linear_model import LassoCV\n",
    "from sklearn.ensemble import GradientBoostingRegressor\n",
    "dml_estimate_2 = model_2.estimate_effect(identified_estimand_2, method_name=\"backdoor.econml.dml.DML\",\n",
    "                                     control_value = 0,\n",
    "                                     treatment_value = 1,\n",
    "                                 confidence_intervals=False,\n",
    "                                method_params={\"init_params\":{'model_y':GradientBoostingRegressor(),\n",
    "                                                              'model_t': GradientBoostingRegressor(),\n",
    "                                                              \"model_final\":LassoCV(fit_intercept=False),\n",
    "                                                              'featurizer':PolynomialFeatures(degree=2, include_bias=True)},\n",
    "                                               \"fit_params\":{}})\n",
    "print(dml_estimate_2)"
   ]
  },
  {
   "cell_type": "code",
   "execution_count": 19,
   "id": "detected-screw",
   "metadata": {},
   "outputs": [
    {
     "data": {
      "image/png": "[encoded data removed]",
      "text/latex": [
       "$\\displaystyle 0.0$"
      ],
      "text/plain": [
       "0.0"
      ]
     },
     "execution_count": 19,
     "metadata": {},
     "output_type": "execute_result"
    }
   ],
   "source": [
    "dml_estimate_2.value"
   ]
  },
  {
   "cell_type": "markdown",
   "id": "medium-owner",
   "metadata": {},
   "source": [
    "## Refutation"
   ]
  },
  {
   "cell_type": "markdown",
   "id": "surrounded-final",
   "metadata": {},
   "source": [
    "### Linear"
   ]
  },
  {
   "cell_type": "code",
   "execution_count": 20,
   "id": "changing-bronze",
   "metadata": {},
   "outputs": [
    {
     "name": "stdout",
     "output_type": "stream",
     "text": [
      "Refute: Add a Random Common Cause\n",
      "Estimated effect:0.19492766012127527\n",
      "New effect:0.18848536668492466\n",
      "\n"
     ]
    }
   ],
   "source": [
    "res_random = model_2.refute_estimate(identified_estimand_2, causal_estimate_reg_2, method_name=\"random_common_cause\")\n",
    "print(res_random)"
   ]
  },
  {
   "cell_type": "code",
   "execution_count": 21,
   "id": "returning-developer",
   "metadata": {},
   "outputs": [
    {
     "name": "stdout",
     "output_type": "stream",
     "text": [
      "Refute: Use a Placebo Treatment\n",
      "Estimated effect:0.19492766012127527\n",
      "New effect:0.004042653915678829\n",
      "p value:0.486\n",
      "\n"
     ]
    }
   ],
   "source": [
    "res_placebo = model_2.refute_estimate(identified_estimand_2, causal_estimate_reg_2,\n",
    "                                    method_name=\"placebo_treatment_refuter\", \n",
    "                                    placebo_type=\"permute\",\n",
    "                                    num_simulations=500)\n",
    "print(res_placebo)"
   ]
  },
  {
   "cell_type": "markdown",
   "id": "spatial-azerbaijan",
   "metadata": {},
   "source": [
    "### Non-Linear"
   ]
  },
  {
   "cell_type": "code",
   "execution_count": 22,
   "id": "confirmed-michigan",
   "metadata": {},
   "outputs": [
    {
     "name": "stdout",
     "output_type": "stream",
     "text": [
      "Refute: Add a Random Common Cause\n",
      "Estimated effect:0.0\n",
      "New effect:-3.8047604671383846e-17\n",
      "\n"
     ]
    }
   ],
   "source": [
    "res_random = model_2.refute_estimate(identified_estimand_2, dml_estimate_2, method_name=\"random_common_cause\")\n",
    "print(res_random)"
   ]
  },
  {
   "cell_type": "code",
   "execution_count": 23,
   "id": "residential-finish",
   "metadata": {},
   "outputs": [
    {
     "name": "stdout",
     "output_type": "stream",
     "text": [
      "Refute: Use a Placebo Treatment\n",
      "Estimated effect:0.0\n",
      "New effect:-0.009774054756630577\n",
      "p value:0.708\n",
      "\n"
     ]
    }
   ],
   "source": [
    "res_placebo = model_2.refute_estimate(identified_estimand_2, dml_estimate_2,\n",
    "                                    method_name=\"placebo_treatment_refuter\", \n",
    "                                    placebo_type=\"permute\",\n",
    "                                    num_simulations=500)\n",
    "print(res_placebo)"
   ]
  },
  {
   "cell_type": "markdown",
   "id": "burning-malawi",
   "metadata": {},
   "source": [
    "# MODEL-3"
   ]
  },
  {
   "cell_type": "code",
   "execution_count": 25,
   "id": "proof-cleaning",
   "metadata": {},
   "outputs": [],
   "source": [
    "model_3 = CausalModel(data = causal_data['third'][\"data\"], \n",
    "                      treatment = causal_data['third'][\"treatment\"][0],\n",
    "                      outcome = causal_data['third'][\"outcome\"][0],\n",
    "                      common_causes = causal_data['third'][\"common_causes_names\"])\n",
    "                      #intrumental_variables = causal_data['third'][\"instrument_names\"]) "
   ]
  },
  {
   "cell_type": "code",
   "execution_count": 26,
   "id": "manual-patient",
   "metadata": {},
   "outputs": [
    {
     "name": "stdout",
     "output_type": "stream",
     "text": [
      "Estimand type: nonparametric-ate\n",
      "\n",
      "### Estimand : 1\n",
      "Estimand name: backdoor\n",
      "Estimand expression:\n",
      "    d                                                                         \n",
      "─────────(Expectation(target|walls,percent_african_american,service_ind,income\n",
      "d[hazard]                                                                     \n",
      "\n",
      "                                                                              \n",
      "_poverty,occupancy,secondary_hazard_31,roughness_2,median_year_built,percent_o\n",
      "                                                                              \n",
      "\n",
      "                                                              \n",
      "wner_occupied,per_capita_income,roofing,median_age,roof_type))\n",
      "                                                              \n",
      "Estimand assumption 1, Unconfoundedness: If U→{hazard} and U→target then P(target|hazard,walls,percent_african_american,service_ind,income_poverty,occupancy,secondary_hazard_31,roughness_2,median_year_built,percent_owner_occupied,per_capita_income,roofing,median_age,roof_type,U) = P(target|hazard,walls,percent_african_american,service_ind,income_poverty,occupancy,secondary_hazard_31,roughness_2,median_year_built,percent_owner_occupied,per_capita_income,roofing,median_age,roof_type)\n",
      "\n",
      "### Estimand : 2\n",
      "Estimand name: iv\n",
      "No such variable found!\n",
      "\n",
      "### Estimand : 3\n",
      "Estimand name: frontdoor\n",
      "No such variable found!\n",
      "\n"
     ]
    }
   ],
   "source": [
    "identified_estimand_3 = model_3.identify_effect(proceed_when_unidentifiable=True)\n",
    "print(identified_estimand_3)"
   ]
  },
  {
   "cell_type": "markdown",
   "id": "furnished-nirvana",
   "metadata": {},
   "source": [
    "### Linear Estimation"
   ]
  },
  {
   "cell_type": "code",
   "execution_count": 27,
   "id": "southern-peter",
   "metadata": {},
   "outputs": [
    {
     "name": "stdout",
     "output_type": "stream",
     "text": [
      "*** Causal Estimate ***\n",
      "\n",
      "## Identified estimand\n",
      "Estimand type: nonparametric-ate\n",
      "\n",
      "### Estimand : 1\n",
      "Estimand name: backdoor\n",
      "Estimand expression:\n",
      "    d                                                                         \n",
      "─────────(Expectation(target|walls,percent_african_american,service_ind,income\n",
      "d[hazard]                                                                     \n",
      "\n",
      "                                                                              \n",
      "_poverty,occupancy,secondary_hazard_31,roughness_2,median_year_built,percent_o\n",
      "                                                                              \n",
      "\n",
      "                                                              \n",
      "wner_occupied,per_capita_income,roofing,median_age,roof_type))\n",
      "                                                              \n",
      "Estimand assumption 1, Unconfoundedness: If U→{hazard} and U→target then P(target|hazard,walls,percent_african_american,service_ind,income_poverty,occupancy,secondary_hazard_31,roughness_2,median_year_built,percent_owner_occupied,per_capita_income,roofing,median_age,roof_type,U) = P(target|hazard,walls,percent_african_american,service_ind,income_poverty,occupancy,secondary_hazard_31,roughness_2,median_year_built,percent_owner_occupied,per_capita_income,roofing,median_age,roof_type)\n",
      "\n",
      "## Realized estimand\n",
      "b: target~hazard+walls+percent_african_american+service_ind+income_poverty+occupancy+secondary_hazard_31+roughness_2+median_year_built+percent_owner_occupied+per_capita_income+roofing+median_age+roof_type\n",
      "Target units: ate\n",
      "\n",
      "## Estimate\n",
      "Mean value: 0.9508289040166984\n",
      "\n",
      "Causal Estimate is 0.9508289040166984\n"
     ]
    }
   ],
   "source": [
    "causal_estimate_reg_3  = model_3.estimate_effect(identified_estimand_3,\n",
    "                                 method_name=\"backdoor.linear_regression\")\n",
    "\n",
    "print(causal_estimate_reg_3)\n",
    "print(\"Causal Estimate is \" + str(causal_estimate_reg_3.value))"
   ]
  },
  {
   "cell_type": "markdown",
   "id": "afraid-warrant",
   "metadata": {},
   "source": [
    "### Non-Linear Estimation"
   ]
  },
  {
   "cell_type": "code",
   "execution_count": 28,
   "id": "extensive-national",
   "metadata": {},
   "outputs": [
    {
     "name": "stdout",
     "output_type": "stream",
     "text": [
      "*** Causal Estimate ***\n",
      "\n",
      "## Identified estimand\n",
      "Estimand type: nonparametric-ate\n",
      "\n",
      "### Estimand : 1\n",
      "Estimand name: backdoor\n",
      "Estimand expression:\n",
      "    d                                                                         \n",
      "─────────(Expectation(target|walls,percent_african_american,service_ind,income\n",
      "d[hazard]                                                                     \n",
      "\n",
      "                                                                              \n",
      "_poverty,occupancy,secondary_hazard_31,roughness_2,median_year_built,percent_o\n",
      "                                                                              \n",
      "\n",
      "                                                              \n",
      "wner_occupied,per_capita_income,roofing,median_age,roof_type))\n",
      "                                                              \n",
      "Estimand assumption 1, Unconfoundedness: If U→{hazard} and U→target then P(target|hazard,walls,percent_african_american,service_ind,income_poverty,occupancy,secondary_hazard_31,roughness_2,median_year_built,percent_owner_occupied,per_capita_income,roofing,median_age,roof_type,U) = P(target|hazard,walls,percent_african_american,service_ind,income_poverty,occupancy,secondary_hazard_31,roughness_2,median_year_built,percent_owner_occupied,per_capita_income,roofing,median_age,roof_type)\n",
      "\n",
      "## Realized estimand\n",
      "b: target~hazard+walls+percent_african_american+service_ind+income_poverty+occupancy+secondary_hazard_31+roughness_2+median_year_built+percent_owner_occupied+per_capita_income+roofing+median_age+roof_type | \n",
      "Target units: ate\n",
      "\n",
      "## Estimate\n",
      "Mean value: 0.9447905305085953\n",
      "Effect estimates: [0.94479053 0.94479053 0.94479053 0.94479053 0.94479053 0.94479053\n",
      " 0.94479053 0.94479053 0.94479053 0.94479053 0.94479053 0.94479053\n",
      " 0.94479053 0.94479053 0.94479053 0.94479053 0.94479053 0.94479053\n",
      " 0.94479053 0.94479053 0.94479053 0.94479053 0.94479053 0.94479053\n",
      " 0.94479053 0.94479053 0.94479053 0.94479053 0.94479053 0.94479053\n",
      " 0.94479053 0.94479053 0.94479053 0.94479053 0.94479053 0.94479053\n",
      " 0.94479053 0.94479053 0.94479053 0.94479053 0.94479053 0.94479053\n",
      " 0.94479053 0.94479053 0.94479053 0.94479053 0.94479053 0.94479053\n",
      " 0.94479053 0.94479053 0.94479053 0.94479053 0.94479053 0.94479053\n",
      " 0.94479053 0.94479053 0.94479053 0.94479053 0.94479053 0.94479053\n",
      " 0.94479053 0.94479053 0.94479053 0.94479053 0.94479053 0.94479053\n",
      " 0.94479053 0.94479053 0.94479053 0.94479053 0.94479053 0.94479053\n",
      " 0.94479053 0.94479053 0.94479053 0.94479053 0.94479053 0.94479053\n",
      " 0.94479053 0.94479053 0.94479053 0.94479053 0.94479053 0.94479053\n",
      " 0.94479053 0.94479053 0.94479053 0.94479053 0.94479053 0.94479053\n",
      " 0.94479053 0.94479053 0.94479053 0.94479053 0.94479053 0.94479053\n",
      " 0.94479053 0.94479053 0.94479053 0.94479053 0.94479053 0.94479053\n",
      " 0.94479053 0.94479053 0.94479053 0.94479053 0.94479053 0.94479053\n",
      " 0.94479053 0.94479053 0.94479053 0.94479053 0.94479053 0.94479053\n",
      " 0.94479053 0.94479053 0.94479053]\n",
      "\n"
     ]
    }
   ],
   "source": [
    "from sklearn.preprocessing import PolynomialFeatures\n",
    "from sklearn.linear_model import LassoCV\n",
    "from sklearn.ensemble import GradientBoostingRegressor\n",
    "dml_estimate_3 = model_3.estimate_effect(identified_estimand_3, method_name=\"backdoor.econml.dml.DML\",\n",
    "                                     control_value = 0,\n",
    "                                     treatment_value = 1,\n",
    "                                 confidence_intervals=False,\n",
    "                                method_params={\"init_params\":{'model_y':GradientBoostingRegressor(),\n",
    "                                                              'model_t': GradientBoostingRegressor(),\n",
    "                                                              \"model_final\":LassoCV(fit_intercept=False),\n",
    "                                                              'featurizer':PolynomialFeatures(degree=2, include_bias=True)},\n",
    "                                               \"fit_params\":{}})\n",
    "print(dml_estimate_3)"
   ]
  },
  {
   "cell_type": "markdown",
   "id": "adolescent-fraction",
   "metadata": {},
   "source": [
    "## REFUTATION\n",
    "\n",
    "### Linear"
   ]
  },
  {
   "cell_type": "code",
   "execution_count": 29,
   "id": "computational-coast",
   "metadata": {},
   "outputs": [
    {
     "name": "stdout",
     "output_type": "stream",
     "text": [
      "Refute: Add a Random Common Cause\n",
      "Estimated effect:0.9508289040166984\n",
      "New effect:0.9453815469873192\n",
      "\n"
     ]
    }
   ],
   "source": [
    "res_random = model_3.refute_estimate(identified_estimand_3, causal_estimate_reg_3, method_name=\"random_common_cause\")\n",
    "print(res_random)"
   ]
  },
  {
   "cell_type": "code",
   "execution_count": 30,
   "id": "organizational-british",
   "metadata": {},
   "outputs": [
    {
     "name": "stdout",
     "output_type": "stream",
     "text": [
      "Refute: Use a Placebo Treatment\n",
      "Estimated effect:0.9508289040166984\n",
      "New effect:-0.0013712549687816481\n",
      "p value:0.496\n",
      "\n"
     ]
    }
   ],
   "source": [
    "res_placebo = model_3.refute_estimate(identified_estimand_3, causal_estimate_reg_3,\n",
    "                                    method_name=\"placebo_treatment_refuter\", \n",
    "                                    placebo_type=\"permute\",\n",
    "                                    num_simulations=500)\n",
    "print(res_placebo)"
   ]
  },
  {
   "cell_type": "markdown",
   "id": "perfect-indiana",
   "metadata": {},
   "source": [
    "### Non-Linear"
   ]
  },
  {
   "cell_type": "code",
   "execution_count": 31,
   "id": "covered-notion",
   "metadata": {},
   "outputs": [
    {
     "name": "stdout",
     "output_type": "stream",
     "text": [
      "Refute: Add a Random Common Cause\n",
      "Estimated effect:0.9447905305085953\n",
      "New effect:0.9279012627370092\n",
      "\n"
     ]
    }
   ],
   "source": [
    "res_random = model_3.refute_estimate(identified_estimand_3, dml_estimate_3, method_name=\"random_common_cause\")\n",
    "print(res_random)"
   ]
  },
  {
   "cell_type": "code",
   "execution_count": 32,
   "id": "beautiful-guinea",
   "metadata": {},
   "outputs": [
    {
     "name": "stdout",
     "output_type": "stream",
     "text": [
      "Refute: Use a Placebo Treatment\n",
      "Estimated effect:0.9447905305085953\n",
      "New effect:0.0012334719223613903\n",
      "p value:0.694\n",
      "\n"
     ]
    }
   ],
   "source": [
    "res_placebo = model_3.refute_estimate(identified_estimand_3, dml_estimate_3,\n",
    "                                    method_name=\"placebo_treatment_refuter\", \n",
    "                                    placebo_type=\"permute\",\n",
    "                                    num_simulations=500)\n",
    "print(res_placebo)"
   ]
  },
  {
   "cell_type": "code",
   "execution_count": null,
   "id": "smaller-huntington",
   "metadata": {},
   "outputs": [],
   "source": []
  }
 ],
 "metadata": {
  "kernelspec": {
   "display_name": "Python 3",
   "language": "python",
   "name": "python3"
  },
  "language_info": {
   "codemirror_mode": {
    "name": "ipython",
    "version": 3
   },
   "file_extension": ".py",
   "mimetype": "text/x-python",
   "name": "python",
   "nbconvert_exporter": "python",
   "pygments_lexer": "ipython3",
   "version": "3.8.5"
  }
 },
 "nbformat": 4,
 "nbformat_minor": 5
}
