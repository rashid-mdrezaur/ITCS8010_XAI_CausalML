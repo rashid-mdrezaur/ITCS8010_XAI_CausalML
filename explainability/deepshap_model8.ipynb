{
 "cells": [
  {
   "cell_type": "code",
   "execution_count": 41,
   "metadata": {},
   "outputs": [],
   "source": [
    "import pandas as pd\n",
    "import numpy as np\n",
    "from tqdm import tqdm\n",
    "from sklearn.metrics import accuracy_score, mean_squared_error\n",
    "import shap"
   ]
  },
  {
   "cell_type": "code",
   "execution_count": 42,
   "metadata": {},
   "outputs": [],
   "source": [
    "import torch\n",
    "from torch.utils.data import DataLoader\n",
    "from torch import optim\n",
    "import torch.nn.functional as F"
   ]
  },
  {
   "cell_type": "code",
   "execution_count": 43,
   "metadata": {},
   "outputs": [],
   "source": [
    "from dataset import BldgDataset\n",
    "from model import ClassificationModel, RegressionModel"
   ]
  },
  {
   "cell_type": "code",
   "execution_count": 69,
   "metadata": {},
   "outputs": [],
   "source": [
    "def main():\n",
    "    model_name = 'model_test'\n",
    "    model_type = 'regression'\n",
    "    device = torch.device('cuda' if torch.cuda.is_available() else 'cpu')\n",
    "    batch_size = 8\n",
    "    EPOCHS = 50\n",
    "    lr = 5e-3\n",
    "    l2_reg = 0.1\n",
    "\n",
    "    data = pd.read_csv('data/data_df.csv', header=0)\n",
    "    \n",
    "    data = data.drop(['target'], axis=1)\n",
    "\n",
    "    # TODO: Replace with cross validation\n",
    "    test_df = data.sample(frac=0.2)\n",
    "    data.drop(test_df.index, inplace=True)\n",
    "\n",
    "    train_data = BldgDataset(data)\n",
    "    test_data = BldgDataset(test_df)\n",
    "\n",
    "    train_loader = DataLoader(train_data,\n",
    "                              batch_size=batch_size,\n",
    "                              shuffle=True,\n",
    "                              pin_memory=True)\n",
    "    test_loader = DataLoader(test_data,\n",
    "                             batch_size=batch_size*2,\n",
    "                             shuffle=False)\n",
    "\n",
    "    if model_type == 'regression':\n",
    "        model = RegressionModel(in_feats=train_data.num_feats(),\n",
    "                                hidden_dim=10,\n",
    "                                dropout=0.2,\n",
    "                                activation='relu')\n",
    "    else:\n",
    "        model = ClassificationModel(in_feats=train_data.num_feats(),\n",
    "                                    hidden_dim=10,\n",
    "                                    n_classes=train_data.num_classes(),\n",
    "                                    dropout=0.2,\n",
    "                                    activation='relu')\n",
    "    optimizer = optim.Adam(model.parameters(),\n",
    "                           lr=lr,\n",
    "                           weight_decay=l2_reg)\n",
    "\n",
    "    model.to(device)\n",
    "    for epoch in range(EPOCHS):\n",
    "\n",
    "        data_iter = tqdm(\n",
    "            train_loader,\n",
    "            desc=f'Epoch: {epoch:02}',\n",
    "            total=len(train_loader)\n",
    "        )\n",
    "\n",
    "        model.train()\n",
    "        avg_loss = 0.\n",
    "        for i, (X, y) in enumerate(data_iter):\n",
    "            X, y = X.to(device), y.to(device)\n",
    "            optimizer.zero_grad()\n",
    "\n",
    "            logits = model(X)\n",
    "            # TODO: Find a loss function for ordinal classification\n",
    "            if model_type == 'regression':\n",
    "                loss = F.mse_loss(logits.squeeze(), y.type(torch.float32))\n",
    "            else:\n",
    "                loss = F.cross_entropy(logits, y)\n",
    "\n",
    "            loss.backward()\n",
    "            optimizer.step()\n",
    "\n",
    "            avg_loss += loss.item()\n",
    "            data_iter.set_postfix({\n",
    "                'avg_loss': avg_loss / (i+1)\n",
    "            })\n",
    "\n",
    "    y_pred, y_true = [], []\n",
    "    with torch.no_grad():\n",
    "        model.eval()\n",
    "        for X, y in test_loader:\n",
    "            X = X.to(device)\n",
    "\n",
    "            if model_type == 'regression':\n",
    "                preds = model(X).squeeze()\n",
    "            else:\n",
    "                preds = torch.argmax(model(X), dim=-1)\n",
    "            y_pred.extend(preds.cpu())\n",
    "            y_true.extend(y)\n",
    "\n",
    "    # TODO: Paper used MSE not accuracy\n",
    "    if model_type == 'regression':\n",
    "        print(f'Test MSE: {mean_squared_error(y_true, y_pred):.4f}')\n",
    "    else:\n",
    "        print(y_pred)\n",
    "        print(y_true)\n",
    "        print(f'Test Accuracy: {accuracy_score(y_true, y_pred):.4f}')\n",
    "        print(f'Test MSE: {mean_squared_error(y_true, y_pred):.4f}')\n",
    "\n",
    "    torch.save(model.state_dict(), f'models/{model_name}.pt')\n",
    "    \n",
    "    batch = next(iter(train_loader))\n",
    "    images, _ = batch\n",
    "    batch2 = next(iter(test_loader))\n",
    "    images2, _ = batch2\n",
    "    \n",
    "    train_shap = images.to(device)\n",
    "    test_shap = images2.to(device)\n",
    "      \n",
    "    explainer = shap.DeepExplainer(model, train_shap)\n",
    "    shap_values = explainer.shap_values(test_shap)\n",
    "    \n",
    "    return shap_values\n",
    "    "
   ]
  },
  {
   "cell_type": "code",
   "execution_count": 70,
   "metadata": {},
   "outputs": [],
   "source": [
    "def ordinalize(x, n_classes=5):\n",
    "    out = np.zeros(n_classes)\n",
    "    for i in range(x):\n",
    "        out[i] = 1\n",
    "    return out"
   ]
  },
  {
   "cell_type": "code",
   "execution_count": 78,
   "metadata": {},
   "outputs": [
    {
     "name": "stderr",
     "output_type": "stream",
     "text": [
      "Epoch: 00: 100%|███████████████████████████████████████████████████████| 12/12 [00:00<00:00, 148.54it/s, avg_loss=1.04]\n",
      "Epoch: 01: 100%|██████████████████████████████████████████████████████| 12/12 [00:00<00:00, 182.31it/s, avg_loss=0.517]\n",
      "Epoch: 02: 100%|██████████████████████████████████████████████████████| 12/12 [00:00<00:00, 176.94it/s, avg_loss=0.203]\n",
      "Epoch: 03: 100%|██████████████████████████████████████████████████████| 12/12 [00:00<00:00, 174.38it/s, avg_loss=0.118]\n",
      "Epoch: 04: 100%|█████████████████████████████████████████████████████| 12/12 [00:00<00:00, 174.38it/s, avg_loss=0.0832]\n",
      "Epoch: 05: 100%|█████████████████████████████████████████████████████| 12/12 [00:00<00:00, 179.58it/s, avg_loss=0.0578]\n",
      "Epoch: 06: 100%|█████████████████████████████████████████████████████| 12/12 [00:00<00:00, 182.30it/s, avg_loss=0.0515]\n",
      "Epoch: 07: 100%|██████████████████████████████████████████████████████| 12/12 [00:00<00:00, 169.46it/s, avg_loss=0.072]\n",
      "Epoch: 08: 100%|█████████████████████████████████████████████████████| 12/12 [00:00<00:00, 182.30it/s, avg_loss=0.0642]\n",
      "Epoch: 09: 100%|█████████████████████████████████████████████████████| 12/12 [00:00<00:00, 167.11it/s, avg_loss=0.0521]\n",
      "Epoch: 10: 100%|█████████████████████████████████████████████████████| 12/12 [00:00<00:00, 182.31it/s, avg_loss=0.0423]\n",
      "Epoch: 11: 100%|█████████████████████████████████████████████████████| 12/12 [00:00<00:00, 174.38it/s, avg_loss=0.0531]\n",
      "Epoch: 12: 100%|██████████████████████████████████████████████████████| 12/12 [00:00<00:00, 174.38it/s, avg_loss=0.032]\n",
      "Epoch: 13: 100%|█████████████████████████████████████████████████████| 12/12 [00:00<00:00, 167.12it/s, avg_loss=0.0305]\n",
      "Epoch: 14: 100%|██████████████████████████████████████████████████████| 12/12 [00:00<00:00, 160.42it/s, avg_loss=0.034]\n",
      "Epoch: 15: 100%|█████████████████████████████████████████████████████| 12/12 [00:00<00:00, 160.43it/s, avg_loss=0.0321]\n",
      "Epoch: 16: 100%|█████████████████████████████████████████████████████| 12/12 [00:00<00:00, 162.59it/s, avg_loss=0.0308]\n",
      "Epoch: 17: 100%|█████████████████████████████████████████████████████| 12/12 [00:00<00:00, 179.58it/s, avg_loss=0.0284]\n",
      "Epoch: 18: 100%|█████████████████████████████████████████████████████| 12/12 [00:00<00:00, 169.47it/s, avg_loss=0.0282]\n",
      "Epoch: 19: 100%|█████████████████████████████████████████████████████| 12/12 [00:00<00:00, 182.30it/s, avg_loss=0.0247]\n",
      "Epoch: 20: 100%|█████████████████████████████████████████████████████| 12/12 [00:00<00:00, 176.94it/s, avg_loss=0.0241]\n",
      "Epoch: 21: 100%|█████████████████████████████████████████████████████| 12/12 [00:00<00:00, 158.32it/s, avg_loss=0.0244]\n",
      "Epoch: 22: 100%|█████████████████████████████████████████████████████| 12/12 [00:00<00:00, 162.59it/s, avg_loss=0.0213]\n",
      "Epoch: 23: 100%|█████████████████████████████████████████████████████| 12/12 [00:00<00:00, 164.83it/s, avg_loss=0.0203]\n",
      "Epoch: 24: 100%|█████████████████████████████████████████████████████| 12/12 [00:00<00:00, 164.82it/s, avg_loss=0.0221]\n",
      "Epoch: 25: 100%|█████████████████████████████████████████████████████| 12/12 [00:00<00:00, 154.26it/s, avg_loss=0.0238]\n",
      "Epoch: 26: 100%|█████████████████████████████████████████████████████| 12/12 [00:00<00:00, 158.32it/s, avg_loss=0.0232]\n",
      "Epoch: 27: 100%|█████████████████████████████████████████████████████| 12/12 [00:00<00:00, 167.11it/s, avg_loss=0.0224]\n",
      "Epoch: 28: 100%|█████████████████████████████████████████████████████| 12/12 [00:00<00:00, 152.31it/s, avg_loss=0.0249]\n",
      "Epoch: 29: 100%|███████████████████████████████████████████████████████| 12/12 [00:00<00:00, 156.26it/s, avg_loss=0.02]\n",
      "Epoch: 30: 100%|█████████████████████████████████████████████████████| 12/12 [00:00<00:00, 162.60it/s, avg_loss=0.0242]\n",
      "Epoch: 31: 100%|█████████████████████████████████████████████████████| 12/12 [00:00<00:00, 156.26it/s, avg_loss=0.0235]\n",
      "Epoch: 32: 100%|██████████████████████████████████████████████████████| 12/12 [00:00<00:00, 167.11it/s, avg_loss=0.024]\n",
      "Epoch: 33: 100%|██████████████████████████████████████████████████████| 12/12 [00:00<00:00, 154.26it/s, avg_loss=0.021]\n",
      "Epoch: 34: 100%|█████████████████████████████████████████████████████| 12/12 [00:00<00:00, 162.60it/s, avg_loss=0.0201]\n",
      "Epoch: 35: 100%|█████████████████████████████████████████████████████| 12/12 [00:00<00:00, 160.43it/s, avg_loss=0.0234]\n",
      "Epoch: 36: 100%|█████████████████████████████████████████████████████| 12/12 [00:00<00:00, 143.24it/s, avg_loss=0.0229]\n",
      "Epoch: 37: 100%|██████████████████████████████████████████████████████| 12/12 [00:00<00:00, 144.97it/s, avg_loss=0.024]\n",
      "Epoch: 38: 100%|█████████████████████████████████████████████████████| 12/12 [00:00<00:00, 160.43it/s, avg_loss=0.0229]\n",
      "Epoch: 39: 100%|█████████████████████████████████████████████████████| 12/12 [00:00<00:00, 156.26it/s, avg_loss=0.0204]\n",
      "Epoch: 40: 100%|█████████████████████████████████████████████████████| 12/12 [00:00<00:00, 150.40it/s, avg_loss=0.0218]\n",
      "Epoch: 41: 100%|█████████████████████████████████████████████████████| 12/12 [00:00<00:00, 152.30it/s, avg_loss=0.0216]\n",
      "Epoch: 42: 100%|█████████████████████████████████████████████████████| 12/12 [00:00<00:00, 164.82it/s, avg_loss=0.0219]\n",
      "Epoch: 43: 100%|██████████████████████████████████████████████████████| 12/12 [00:00<00:00, 160.43it/s, avg_loss=0.021]\n",
      "Epoch: 44: 100%|█████████████████████████████████████████████████████| 12/12 [00:00<00:00, 162.59it/s, avg_loss=0.0231]\n",
      "Epoch: 45: 100%|█████████████████████████████████████████████████████| 12/12 [00:00<00:00, 176.95it/s, avg_loss=0.0223]\n",
      "Epoch: 46: 100%|█████████████████████████████████████████████████████| 12/12 [00:00<00:00, 158.32it/s, avg_loss=0.0222]\n",
      "Epoch: 47: 100%|█████████████████████████████████████████████████████| 12/12 [00:00<00:00, 167.11it/s, avg_loss=0.0236]\n",
      "Epoch: 48: 100%|█████████████████████████████████████████████████████| 12/12 [00:00<00:00, 164.82it/s, avg_loss=0.0208]\n",
      "Epoch: 49: 100%|█████████████████████████████████████████████████████| 12/12 [00:00<00:00, 164.83it/s, avg_loss=0.0236]"
     ]
    },
    {
     "name": "stdout",
     "output_type": "stream",
     "text": [
      "Test MSE: 0.0752\n"
     ]
    },
    {
     "name": "stderr",
     "output_type": "stream",
     "text": [
      "\n"
     ]
    }
   ],
   "source": [
    "if __name__ == '__main__':\n",
    "    shap_values = main()"
   ]
  },
  {
   "cell_type": "code",
   "execution_count": 79,
   "metadata": {},
   "outputs": [],
   "source": [
    "import matplotlib.pyplot as plt"
   ]
  },
  {
   "cell_type": "code",
   "execution_count": 126,
   "metadata": {},
   "outputs": [
    {
     "data": {
      "text/plain": [
       "array([0.00860971, 0.00369374, 0.02255591, 0.01075809, 0.00630561,\n",
       "       0.00018412, 0.00309517, 0.00161897, 0.0056296 ])"
      ]
     },
     "execution_count": 126,
     "metadata": {},
     "output_type": "execute_result"
    }
   ],
   "source": [
    "shap_val = np.mean(np.abs(shap_values), axis=0)\n",
    "shap_val"
   ]
  },
  {
   "cell_type": "code",
   "execution_count": 137,
   "metadata": {},
   "outputs": [],
   "source": [
    "y_bar = []\n",
    "for i in range(len(shap_val)):\n",
    "    y_bar.append('Feature '+str(i))"
   ]
  },
  {
   "cell_type": "code",
   "execution_count": 138,
   "metadata": {},
   "outputs": [],
   "source": [
    "df = pd.DataFrame({'shap': shap_val, 'feature': y_bar})"
   ]
  },
  {
   "cell_type": "code",
   "execution_count": 139,
   "metadata": {},
   "outputs": [],
   "source": [
    "df = df.sort_values(by='shap', ascending=True)"
   ]
  },
  {
   "cell_type": "code",
   "execution_count": 140,
   "metadata": {},
   "outputs": [],
   "source": [
    "shap_val = list(df['shap'])\n",
    "y_bar = list(df['feature'])\n",
    "y_pos = np.arange(len(y_bar))"
   ]
  },
  {
   "cell_type": "code",
   "execution_count": 141,
   "metadata": {},
   "outputs": [
    {
     "data": {
      "image/png": "[encoded data removed]",
      "text/plain": [
       "<Figure size 576x360 with 1 Axes>"
      ]
     },
     "metadata": {
      "needs_background": "light"
     },
     "output_type": "display_data"
    }
   ],
   "source": [
    "plt.figure(figsize=(8,5))\n",
    "plt.barh(y_pos, shap_val)\n",
    "plt.yticks(y_pos, y_bar)\n",
    "plt.xlabel('mean(|SHAP value|) (average impact on model output magnitude)')\n",
    "plt.savefig('deepshap/shap_contribution_model8.png')\n"
   ]
  },
  {
   "cell_type": "code",
   "execution_count": null,
   "metadata": {},
   "outputs": [],
   "source": []
  }
 ],
 "metadata": {
  "kernelspec": {
   "display_name": "Python 3",
   "language": "python",
   "name": "python3"
  },
  "language_info": {
   "codemirror_mode": {
    "name": "ipython",
    "version": 3
   },
   "file_extension": ".py",
   "mimetype": "text/x-python",
   "name": "python",
   "nbconvert_exporter": "python",
   "pygments_lexer": "ipython3",
   "version": "3.7.1"
  }
 },
 "nbformat": 4,
 "nbformat_minor": 4
}
