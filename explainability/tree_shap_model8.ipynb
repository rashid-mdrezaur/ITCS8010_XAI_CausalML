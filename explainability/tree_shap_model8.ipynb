{
 "cells": [
  {
   "cell_type": "code",
   "execution_count": 2,
   "metadata": {},
   "outputs": [],
   "source": [
    "import pandas as pd\n",
    "import numpy as np\n",
    "import matplotlib.pyplot as plt\n",
    "import pycaret.regression as pycReg"
   ]
  },
  {
   "cell_type": "code",
   "execution_count": 3,
   "metadata": {},
   "outputs": [],
   "source": [
    "df = pd.read_csv('data/data_df.csv')"
   ]
  },
  {
   "cell_type": "code",
   "execution_count": 4,
   "metadata": {},
   "outputs": [
    {
     "data": {
      "text/plain": [
       "(117, 11)"
      ]
     },
     "execution_count": 4,
     "metadata": {},
     "output_type": "execute_result"
    }
   ],
   "source": [
    "column_name = list(df.columns)\n",
    "df.shape"
   ]
  },
  {
   "cell_type": "code",
   "execution_count": 5,
   "metadata": {},
   "outputs": [],
   "source": [
    "#setup model\n",
    "model = pycReg.setup(data = df, \n",
    "                    target = 'target',\n",
    "                    train_size=0.7,\n",
    "                    normalize=True,\n",
    "                    verbose=False,\n",
    "                    numeric_features=list(df.drop(['target'], axis=1).columns),\n",
    "                    silent = True)"
   ]
  },
  {
   "cell_type": "code",
   "execution_count": 7,
   "metadata": {},
   "outputs": [],
   "source": [
    "# #compare models\n",
    "# pycReg.compare_models(sort = \"RMSE\")"
   ]
  },
  {
   "cell_type": "code",
   "execution_count": 7,
   "metadata": {},
   "outputs": [
    {
     "data": {
      "text/html": [
       "<style  type=\"text/css\" >\n",
       "    #T_d051671e_ac39_11eb_8ee8_9cb6d0c60668row10_col0 {\n",
       "            background:  yellow;\n",
       "        }    #T_d051671e_ac39_11eb_8ee8_9cb6d0c60668row10_col1 {\n",
       "            background:  yellow;\n",
       "        }    #T_d051671e_ac39_11eb_8ee8_9cb6d0c60668row10_col2 {\n",
       "            background:  yellow;\n",
       "        }    #T_d051671e_ac39_11eb_8ee8_9cb6d0c60668row10_col3 {\n",
       "            background:  yellow;\n",
       "        }    #T_d051671e_ac39_11eb_8ee8_9cb6d0c60668row10_col4 {\n",
       "            background:  yellow;\n",
       "        }    #T_d051671e_ac39_11eb_8ee8_9cb6d0c60668row10_col5 {\n",
       "            background:  yellow;\n",
       "        }</style><table id=\"T_d051671e_ac39_11eb_8ee8_9cb6d0c60668\" ><thead>    <tr>        <th class=\"blank level0\" ></th>        <th class=\"col_heading level0 col0\" >MAE</th>        <th class=\"col_heading level0 col1\" >MSE</th>        <th class=\"col_heading level0 col2\" >RMSE</th>        <th class=\"col_heading level0 col3\" >R2</th>        <th class=\"col_heading level0 col4\" >RMSLE</th>        <th class=\"col_heading level0 col5\" >MAPE</th>    </tr></thead><tbody>\n",
       "                <tr>\n",
       "                        <th id=\"T_d051671e_ac39_11eb_8ee8_9cb6d0c60668level0_row0\" class=\"row_heading level0 row0\" >0</th>\n",
       "                        <td id=\"T_d051671e_ac39_11eb_8ee8_9cb6d0c60668row0_col0\" class=\"data row0 col0\" >0.4876</td>\n",
       "                        <td id=\"T_d051671e_ac39_11eb_8ee8_9cb6d0c60668row0_col1\" class=\"data row0 col1\" >0.5233</td>\n",
       "                        <td id=\"T_d051671e_ac39_11eb_8ee8_9cb6d0c60668row0_col2\" class=\"data row0 col2\" >0.7234</td>\n",
       "                        <td id=\"T_d051671e_ac39_11eb_8ee8_9cb6d0c60668row0_col3\" class=\"data row0 col3\" >0.1523</td>\n",
       "                        <td id=\"T_d051671e_ac39_11eb_8ee8_9cb6d0c60668row0_col4\" class=\"data row0 col4\" >-0</td>\n",
       "                        <td id=\"T_d051671e_ac39_11eb_8ee8_9cb6d0c60668row0_col5\" class=\"data row0 col5\" >0.3354</td>\n",
       "            </tr>\n",
       "            <tr>\n",
       "                        <th id=\"T_d051671e_ac39_11eb_8ee8_9cb6d0c60668level0_row1\" class=\"row_heading level0 row1\" >1</th>\n",
       "                        <td id=\"T_d051671e_ac39_11eb_8ee8_9cb6d0c60668row1_col0\" class=\"data row1 col0\" >0.8954</td>\n",
       "                        <td id=\"T_d051671e_ac39_11eb_8ee8_9cb6d0c60668row1_col1\" class=\"data row1 col1\" >1.438</td>\n",
       "                        <td id=\"T_d051671e_ac39_11eb_8ee8_9cb6d0c60668row1_col2\" class=\"data row1 col2\" >1.199</td>\n",
       "                        <td id=\"T_d051671e_ac39_11eb_8ee8_9cb6d0c60668row1_col3\" class=\"data row1 col3\" >0.2265</td>\n",
       "                        <td id=\"T_d051671e_ac39_11eb_8ee8_9cb6d0c60668row1_col4\" class=\"data row1 col4\" >-0</td>\n",
       "                        <td id=\"T_d051671e_ac39_11eb_8ee8_9cb6d0c60668row1_col5\" class=\"data row1 col5\" >0.3376</td>\n",
       "            </tr>\n",
       "            <tr>\n",
       "                        <th id=\"T_d051671e_ac39_11eb_8ee8_9cb6d0c60668level0_row2\" class=\"row_heading level0 row2\" >2</th>\n",
       "                        <td id=\"T_d051671e_ac39_11eb_8ee8_9cb6d0c60668row2_col0\" class=\"data row2 col0\" >0.85</td>\n",
       "                        <td id=\"T_d051671e_ac39_11eb_8ee8_9cb6d0c60668row2_col1\" class=\"data row2 col1\" >1.035</td>\n",
       "                        <td id=\"T_d051671e_ac39_11eb_8ee8_9cb6d0c60668row2_col2\" class=\"data row2 col2\" >1.017</td>\n",
       "                        <td id=\"T_d051671e_ac39_11eb_8ee8_9cb6d0c60668row2_col3\" class=\"data row2 col3\" >-1.07</td>\n",
       "                        <td id=\"T_d051671e_ac39_11eb_8ee8_9cb6d0c60668row2_col4\" class=\"data row2 col4\" >-0</td>\n",
       "                        <td id=\"T_d051671e_ac39_11eb_8ee8_9cb6d0c60668row2_col5\" class=\"data row2 col5\" >0.2897</td>\n",
       "            </tr>\n",
       "            <tr>\n",
       "                        <th id=\"T_d051671e_ac39_11eb_8ee8_9cb6d0c60668level0_row3\" class=\"row_heading level0 row3\" >3</th>\n",
       "                        <td id=\"T_d051671e_ac39_11eb_8ee8_9cb6d0c60668row3_col0\" class=\"data row3 col0\" >0.4961</td>\n",
       "                        <td id=\"T_d051671e_ac39_11eb_8ee8_9cb6d0c60668row3_col1\" class=\"data row3 col1\" >0.3119</td>\n",
       "                        <td id=\"T_d051671e_ac39_11eb_8ee8_9cb6d0c60668row3_col2\" class=\"data row3 col2\" >0.5585</td>\n",
       "                        <td id=\"T_d051671e_ac39_11eb_8ee8_9cb6d0c60668row3_col3\" class=\"data row3 col3\" >0.8202</td>\n",
       "                        <td id=\"T_d051671e_ac39_11eb_8ee8_9cb6d0c60668row3_col4\" class=\"data row3 col4\" >-0</td>\n",
       "                        <td id=\"T_d051671e_ac39_11eb_8ee8_9cb6d0c60668row3_col5\" class=\"data row3 col5\" >0.2412</td>\n",
       "            </tr>\n",
       "            <tr>\n",
       "                        <th id=\"T_d051671e_ac39_11eb_8ee8_9cb6d0c60668level0_row4\" class=\"row_heading level0 row4\" >4</th>\n",
       "                        <td id=\"T_d051671e_ac39_11eb_8ee8_9cb6d0c60668row4_col0\" class=\"data row4 col0\" >0.3968</td>\n",
       "                        <td id=\"T_d051671e_ac39_11eb_8ee8_9cb6d0c60668row4_col1\" class=\"data row4 col1\" >0.3053</td>\n",
       "                        <td id=\"T_d051671e_ac39_11eb_8ee8_9cb6d0c60668row4_col2\" class=\"data row4 col2\" >0.5525</td>\n",
       "                        <td id=\"T_d051671e_ac39_11eb_8ee8_9cb6d0c60668row4_col3\" class=\"data row4 col3\" >0.7876</td>\n",
       "                        <td id=\"T_d051671e_ac39_11eb_8ee8_9cb6d0c60668row4_col4\" class=\"data row4 col4\" >-0</td>\n",
       "                        <td id=\"T_d051671e_ac39_11eb_8ee8_9cb6d0c60668row4_col5\" class=\"data row4 col5\" >0.1287</td>\n",
       "            </tr>\n",
       "            <tr>\n",
       "                        <th id=\"T_d051671e_ac39_11eb_8ee8_9cb6d0c60668level0_row5\" class=\"row_heading level0 row5\" >5</th>\n",
       "                        <td id=\"T_d051671e_ac39_11eb_8ee8_9cb6d0c60668row5_col0\" class=\"data row5 col0\" >0.6188</td>\n",
       "                        <td id=\"T_d051671e_ac39_11eb_8ee8_9cb6d0c60668row5_col1\" class=\"data row5 col1\" >0.7743</td>\n",
       "                        <td id=\"T_d051671e_ac39_11eb_8ee8_9cb6d0c60668row5_col2\" class=\"data row5 col2\" >0.88</td>\n",
       "                        <td id=\"T_d051671e_ac39_11eb_8ee8_9cb6d0c60668row5_col3\" class=\"data row5 col3\" >0.5535</td>\n",
       "                        <td id=\"T_d051671e_ac39_11eb_8ee8_9cb6d0c60668row5_col4\" class=\"data row5 col4\" >-0</td>\n",
       "                        <td id=\"T_d051671e_ac39_11eb_8ee8_9cb6d0c60668row5_col5\" class=\"data row5 col5\" >0.1572</td>\n",
       "            </tr>\n",
       "            <tr>\n",
       "                        <th id=\"T_d051671e_ac39_11eb_8ee8_9cb6d0c60668level0_row6\" class=\"row_heading level0 row6\" >6</th>\n",
       "                        <td id=\"T_d051671e_ac39_11eb_8ee8_9cb6d0c60668row6_col0\" class=\"data row6 col0\" >0.6248</td>\n",
       "                        <td id=\"T_d051671e_ac39_11eb_8ee8_9cb6d0c60668row6_col1\" class=\"data row6 col1\" >0.5027</td>\n",
       "                        <td id=\"T_d051671e_ac39_11eb_8ee8_9cb6d0c60668row6_col2\" class=\"data row6 col2\" >0.709</td>\n",
       "                        <td id=\"T_d051671e_ac39_11eb_8ee8_9cb6d0c60668row6_col3\" class=\"data row6 col3\" >0.8161</td>\n",
       "                        <td id=\"T_d051671e_ac39_11eb_8ee8_9cb6d0c60668row6_col4\" class=\"data row6 col4\" >-0</td>\n",
       "                        <td id=\"T_d051671e_ac39_11eb_8ee8_9cb6d0c60668row6_col5\" class=\"data row6 col5\" >0.227</td>\n",
       "            </tr>\n",
       "            <tr>\n",
       "                        <th id=\"T_d051671e_ac39_11eb_8ee8_9cb6d0c60668level0_row7\" class=\"row_heading level0 row7\" >7</th>\n",
       "                        <td id=\"T_d051671e_ac39_11eb_8ee8_9cb6d0c60668row7_col0\" class=\"data row7 col0\" >0.6177</td>\n",
       "                        <td id=\"T_d051671e_ac39_11eb_8ee8_9cb6d0c60668row7_col1\" class=\"data row7 col1\" >0.5293</td>\n",
       "                        <td id=\"T_d051671e_ac39_11eb_8ee8_9cb6d0c60668row7_col2\" class=\"data row7 col2\" >0.7275</td>\n",
       "                        <td id=\"T_d051671e_ac39_11eb_8ee8_9cb6d0c60668row7_col3\" class=\"data row7 col3\" >0.4707</td>\n",
       "                        <td id=\"T_d051671e_ac39_11eb_8ee8_9cb6d0c60668row7_col4\" class=\"data row7 col4\" >-0</td>\n",
       "                        <td id=\"T_d051671e_ac39_11eb_8ee8_9cb6d0c60668row7_col5\" class=\"data row7 col5\" >0.4116</td>\n",
       "            </tr>\n",
       "            <tr>\n",
       "                        <th id=\"T_d051671e_ac39_11eb_8ee8_9cb6d0c60668level0_row8\" class=\"row_heading level0 row8\" >8</th>\n",
       "                        <td id=\"T_d051671e_ac39_11eb_8ee8_9cb6d0c60668row8_col0\" class=\"data row8 col0\" >0.7389</td>\n",
       "                        <td id=\"T_d051671e_ac39_11eb_8ee8_9cb6d0c60668row8_col1\" class=\"data row8 col1\" >0.7624</td>\n",
       "                        <td id=\"T_d051671e_ac39_11eb_8ee8_9cb6d0c60668row8_col2\" class=\"data row8 col2\" >0.8731</td>\n",
       "                        <td id=\"T_d051671e_ac39_11eb_8ee8_9cb6d0c60668row8_col3\" class=\"data row8 col3\" >0.4697</td>\n",
       "                        <td id=\"T_d051671e_ac39_11eb_8ee8_9cb6d0c60668row8_col4\" class=\"data row8 col4\" >-0</td>\n",
       "                        <td id=\"T_d051671e_ac39_11eb_8ee8_9cb6d0c60668row8_col5\" class=\"data row8 col5\" >0.3585</td>\n",
       "            </tr>\n",
       "            <tr>\n",
       "                        <th id=\"T_d051671e_ac39_11eb_8ee8_9cb6d0c60668level0_row9\" class=\"row_heading level0 row9\" >9</th>\n",
       "                        <td id=\"T_d051671e_ac39_11eb_8ee8_9cb6d0c60668row9_col0\" class=\"data row9 col0\" >0.5841</td>\n",
       "                        <td id=\"T_d051671e_ac39_11eb_8ee8_9cb6d0c60668row9_col1\" class=\"data row9 col1\" >0.4916</td>\n",
       "                        <td id=\"T_d051671e_ac39_11eb_8ee8_9cb6d0c60668row9_col2\" class=\"data row9 col2\" >0.7012</td>\n",
       "                        <td id=\"T_d051671e_ac39_11eb_8ee8_9cb6d0c60668row9_col3\" class=\"data row9 col3\" >0.6017</td>\n",
       "                        <td id=\"T_d051671e_ac39_11eb_8ee8_9cb6d0c60668row9_col4\" class=\"data row9 col4\" >-0</td>\n",
       "                        <td id=\"T_d051671e_ac39_11eb_8ee8_9cb6d0c60668row9_col5\" class=\"data row9 col5\" >0.4588</td>\n",
       "            </tr>\n",
       "            <tr>\n",
       "                        <th id=\"T_d051671e_ac39_11eb_8ee8_9cb6d0c60668level0_row10\" class=\"row_heading level0 row10\" >Mean</th>\n",
       "                        <td id=\"T_d051671e_ac39_11eb_8ee8_9cb6d0c60668row10_col0\" class=\"data row10 col0\" >0.631</td>\n",
       "                        <td id=\"T_d051671e_ac39_11eb_8ee8_9cb6d0c60668row10_col1\" class=\"data row10 col1\" >0.6674</td>\n",
       "                        <td id=\"T_d051671e_ac39_11eb_8ee8_9cb6d0c60668row10_col2\" class=\"data row10 col2\" >0.7942</td>\n",
       "                        <td id=\"T_d051671e_ac39_11eb_8ee8_9cb6d0c60668row10_col3\" class=\"data row10 col3\" >0.3829</td>\n",
       "                        <td id=\"T_d051671e_ac39_11eb_8ee8_9cb6d0c60668row10_col4\" class=\"data row10 col4\" >0</td>\n",
       "                        <td id=\"T_d051671e_ac39_11eb_8ee8_9cb6d0c60668row10_col5\" class=\"data row10 col5\" >0.2946</td>\n",
       "            </tr>\n",
       "            <tr>\n",
       "                        <th id=\"T_d051671e_ac39_11eb_8ee8_9cb6d0c60668level0_row11\" class=\"row_heading level0 row11\" >SD</th>\n",
       "                        <td id=\"T_d051671e_ac39_11eb_8ee8_9cb6d0c60668row11_col0\" class=\"data row11 col0\" >0.1502</td>\n",
       "                        <td id=\"T_d051671e_ac39_11eb_8ee8_9cb6d0c60668row11_col1\" class=\"data row11 col1\" >0.3324</td>\n",
       "                        <td id=\"T_d051671e_ac39_11eb_8ee8_9cb6d0c60668row11_col2\" class=\"data row11 col2\" >0.1915</td>\n",
       "                        <td id=\"T_d051671e_ac39_11eb_8ee8_9cb6d0c60668row11_col3\" class=\"data row11 col3\" >0.5313</td>\n",
       "                        <td id=\"T_d051671e_ac39_11eb_8ee8_9cb6d0c60668row11_col4\" class=\"data row11 col4\" >0</td>\n",
       "                        <td id=\"T_d051671e_ac39_11eb_8ee8_9cb6d0c60668row11_col5\" class=\"data row11 col5\" >0.101</td>\n",
       "            </tr>\n",
       "    </tbody></table>"
      ],
      "text/plain": [
       "<pandas.io.formats.style.Styler at 0x25f5e02e0f0>"
      ]
     },
     "metadata": {},
     "output_type": "display_data"
    }
   ],
   "source": [
    "#create model\n",
    "catB = pycReg.create_model('catboost', verbose=True)"
   ]
  },
  {
   "cell_type": "code",
   "execution_count": 30,
   "metadata": {},
   "outputs": [
    {
     "data": {
      "text/html": [
       "<style  type=\"text/css\" >\n",
       "    #T_c0ae805e_ab86_11eb_a657_9cb6d0c60668row10_col0 {\n",
       "            background:  yellow;\n",
       "        }    #T_c0ae805e_ab86_11eb_a657_9cb6d0c60668row10_col1 {\n",
       "            background:  yellow;\n",
       "        }    #T_c0ae805e_ab86_11eb_a657_9cb6d0c60668row10_col2 {\n",
       "            background:  yellow;\n",
       "        }    #T_c0ae805e_ab86_11eb_a657_9cb6d0c60668row10_col3 {\n",
       "            background:  yellow;\n",
       "        }    #T_c0ae805e_ab86_11eb_a657_9cb6d0c60668row10_col4 {\n",
       "            background:  yellow;\n",
       "        }    #T_c0ae805e_ab86_11eb_a657_9cb6d0c60668row10_col5 {\n",
       "            background:  yellow;\n",
       "        }</style><table id=\"T_c0ae805e_ab86_11eb_a657_9cb6d0c60668\" ><thead>    <tr>        <th class=\"blank level0\" ></th>        <th class=\"col_heading level0 col0\" >MAE</th>        <th class=\"col_heading level0 col1\" >MSE</th>        <th class=\"col_heading level0 col2\" >RMSE</th>        <th class=\"col_heading level0 col3\" >R2</th>        <th class=\"col_heading level0 col4\" >RMSLE</th>        <th class=\"col_heading level0 col5\" >MAPE</th>    </tr></thead><tbody>\n",
       "                <tr>\n",
       "                        <th id=\"T_c0ae805e_ab86_11eb_a657_9cb6d0c60668level0_row0\" class=\"row_heading level0 row0\" >0</th>\n",
       "                        <td id=\"T_c0ae805e_ab86_11eb_a657_9cb6d0c60668row0_col0\" class=\"data row0 col0\" >0.6092</td>\n",
       "                        <td id=\"T_c0ae805e_ab86_11eb_a657_9cb6d0c60668row0_col1\" class=\"data row0 col1\" >0.7782</td>\n",
       "                        <td id=\"T_c0ae805e_ab86_11eb_a657_9cb6d0c60668row0_col2\" class=\"data row0 col2\" >0.8822</td>\n",
       "                        <td id=\"T_c0ae805e_ab86_11eb_a657_9cb6d0c60668row0_col3\" class=\"data row0 col3\" >0.4997</td>\n",
       "                        <td id=\"T_c0ae805e_ab86_11eb_a657_9cb6d0c60668row0_col4\" class=\"data row0 col4\" >-0</td>\n",
       "                        <td id=\"T_c0ae805e_ab86_11eb_a657_9cb6d0c60668row0_col5\" class=\"data row0 col5\" >0.2225</td>\n",
       "            </tr>\n",
       "            <tr>\n",
       "                        <th id=\"T_c0ae805e_ab86_11eb_a657_9cb6d0c60668level0_row1\" class=\"row_heading level0 row1\" >1</th>\n",
       "                        <td id=\"T_c0ae805e_ab86_11eb_a657_9cb6d0c60668row1_col0\" class=\"data row1 col0\" >0.5879</td>\n",
       "                        <td id=\"T_c0ae805e_ab86_11eb_a657_9cb6d0c60668row1_col1\" class=\"data row1 col1\" >0.9022</td>\n",
       "                        <td id=\"T_c0ae805e_ab86_11eb_a657_9cb6d0c60668row1_col2\" class=\"data row1 col2\" >0.9499</td>\n",
       "                        <td id=\"T_c0ae805e_ab86_11eb_a657_9cb6d0c60668row1_col3\" class=\"data row1 col3\" >0.5343</td>\n",
       "                        <td id=\"T_c0ae805e_ab86_11eb_a657_9cb6d0c60668row1_col4\" class=\"data row1 col4\" >-0</td>\n",
       "                        <td id=\"T_c0ae805e_ab86_11eb_a657_9cb6d0c60668row1_col5\" class=\"data row1 col5\" >0.3182</td>\n",
       "            </tr>\n",
       "            <tr>\n",
       "                        <th id=\"T_c0ae805e_ab86_11eb_a657_9cb6d0c60668level0_row2\" class=\"row_heading level0 row2\" >2</th>\n",
       "                        <td id=\"T_c0ae805e_ab86_11eb_a657_9cb6d0c60668row2_col0\" class=\"data row2 col0\" >0.8397</td>\n",
       "                        <td id=\"T_c0ae805e_ab86_11eb_a657_9cb6d0c60668row2_col1\" class=\"data row2 col1\" >0.9176</td>\n",
       "                        <td id=\"T_c0ae805e_ab86_11eb_a657_9cb6d0c60668row2_col2\" class=\"data row2 col2\" >0.9579</td>\n",
       "                        <td id=\"T_c0ae805e_ab86_11eb_a657_9cb6d0c60668row2_col3\" class=\"data row2 col3\" >0.4299</td>\n",
       "                        <td id=\"T_c0ae805e_ab86_11eb_a657_9cb6d0c60668row2_col4\" class=\"data row2 col4\" >-0</td>\n",
       "                        <td id=\"T_c0ae805e_ab86_11eb_a657_9cb6d0c60668row2_col5\" class=\"data row2 col5\" >0.5164</td>\n",
       "            </tr>\n",
       "            <tr>\n",
       "                        <th id=\"T_c0ae805e_ab86_11eb_a657_9cb6d0c60668level0_row3\" class=\"row_heading level0 row3\" >3</th>\n",
       "                        <td id=\"T_c0ae805e_ab86_11eb_a657_9cb6d0c60668row3_col0\" class=\"data row3 col0\" >0.4056</td>\n",
       "                        <td id=\"T_c0ae805e_ab86_11eb_a657_9cb6d0c60668row3_col1\" class=\"data row3 col1\" >0.2354</td>\n",
       "                        <td id=\"T_c0ae805e_ab86_11eb_a657_9cb6d0c60668row3_col2\" class=\"data row3 col2\" >0.4852</td>\n",
       "                        <td id=\"T_c0ae805e_ab86_11eb_a657_9cb6d0c60668row3_col3\" class=\"data row3 col3\" >0.8537</td>\n",
       "                        <td id=\"T_c0ae805e_ab86_11eb_a657_9cb6d0c60668row3_col4\" class=\"data row3 col4\" >-0</td>\n",
       "                        <td id=\"T_c0ae805e_ab86_11eb_a657_9cb6d0c60668row3_col5\" class=\"data row3 col5\" >0.272</td>\n",
       "            </tr>\n",
       "            <tr>\n",
       "                        <th id=\"T_c0ae805e_ab86_11eb_a657_9cb6d0c60668level0_row4\" class=\"row_heading level0 row4\" >4</th>\n",
       "                        <td id=\"T_c0ae805e_ab86_11eb_a657_9cb6d0c60668row4_col0\" class=\"data row4 col0\" >0.6993</td>\n",
       "                        <td id=\"T_c0ae805e_ab86_11eb_a657_9cb6d0c60668row4_col1\" class=\"data row4 col1\" >0.6825</td>\n",
       "                        <td id=\"T_c0ae805e_ab86_11eb_a657_9cb6d0c60668row4_col2\" class=\"data row4 col2\" >0.8261</td>\n",
       "                        <td id=\"T_c0ae805e_ab86_11eb_a657_9cb6d0c60668row4_col3\" class=\"data row4 col3\" >0.61</td>\n",
       "                        <td id=\"T_c0ae805e_ab86_11eb_a657_9cb6d0c60668row4_col4\" class=\"data row4 col4\" >-0</td>\n",
       "                        <td id=\"T_c0ae805e_ab86_11eb_a657_9cb6d0c60668row4_col5\" class=\"data row4 col5\" >0.3929</td>\n",
       "            </tr>\n",
       "            <tr>\n",
       "                        <th id=\"T_c0ae805e_ab86_11eb_a657_9cb6d0c60668level0_row5\" class=\"row_heading level0 row5\" >5</th>\n",
       "                        <td id=\"T_c0ae805e_ab86_11eb_a657_9cb6d0c60668row5_col0\" class=\"data row5 col0\" >0.4707</td>\n",
       "                        <td id=\"T_c0ae805e_ab86_11eb_a657_9cb6d0c60668row5_col1\" class=\"data row5 col1\" >0.461</td>\n",
       "                        <td id=\"T_c0ae805e_ab86_11eb_a657_9cb6d0c60668row5_col2\" class=\"data row5 col2\" >0.6789</td>\n",
       "                        <td id=\"T_c0ae805e_ab86_11eb_a657_9cb6d0c60668row5_col3\" class=\"data row5 col3\" >0.6793</td>\n",
       "                        <td id=\"T_c0ae805e_ab86_11eb_a657_9cb6d0c60668row5_col4\" class=\"data row5 col4\" >-0</td>\n",
       "                        <td id=\"T_c0ae805e_ab86_11eb_a657_9cb6d0c60668row5_col5\" class=\"data row5 col5\" >0.1679</td>\n",
       "            </tr>\n",
       "            <tr>\n",
       "                        <th id=\"T_c0ae805e_ab86_11eb_a657_9cb6d0c60668level0_row6\" class=\"row_heading level0 row6\" >6</th>\n",
       "                        <td id=\"T_c0ae805e_ab86_11eb_a657_9cb6d0c60668row6_col0\" class=\"data row6 col0\" >0.3187</td>\n",
       "                        <td id=\"T_c0ae805e_ab86_11eb_a657_9cb6d0c60668row6_col1\" class=\"data row6 col1\" >0.1502</td>\n",
       "                        <td id=\"T_c0ae805e_ab86_11eb_a657_9cb6d0c60668row6_col2\" class=\"data row6 col2\" >0.3876</td>\n",
       "                        <td id=\"T_c0ae805e_ab86_11eb_a657_9cb6d0c60668row6_col3\" class=\"data row6 col3\" >0.8646</td>\n",
       "                        <td id=\"T_c0ae805e_ab86_11eb_a657_9cb6d0c60668row6_col4\" class=\"data row6 col4\" >-0</td>\n",
       "                        <td id=\"T_c0ae805e_ab86_11eb_a657_9cb6d0c60668row6_col5\" class=\"data row6 col5\" >0.2186</td>\n",
       "            </tr>\n",
       "            <tr>\n",
       "                        <th id=\"T_c0ae805e_ab86_11eb_a657_9cb6d0c60668level0_row7\" class=\"row_heading level0 row7\" >7</th>\n",
       "                        <td id=\"T_c0ae805e_ab86_11eb_a657_9cb6d0c60668row7_col0\" class=\"data row7 col0\" >0.4448</td>\n",
       "                        <td id=\"T_c0ae805e_ab86_11eb_a657_9cb6d0c60668row7_col1\" class=\"data row7 col1\" >0.3127</td>\n",
       "                        <td id=\"T_c0ae805e_ab86_11eb_a657_9cb6d0c60668row7_col2\" class=\"data row7 col2\" >0.5592</td>\n",
       "                        <td id=\"T_c0ae805e_ab86_11eb_a657_9cb6d0c60668row7_col3\" class=\"data row7 col3\" >0.2852</td>\n",
       "                        <td id=\"T_c0ae805e_ab86_11eb_a657_9cb6d0c60668row7_col4\" class=\"data row7 col4\" >-0</td>\n",
       "                        <td id=\"T_c0ae805e_ab86_11eb_a657_9cb6d0c60668row7_col5\" class=\"data row7 col5\" >0.3101</td>\n",
       "            </tr>\n",
       "            <tr>\n",
       "                        <th id=\"T_c0ae805e_ab86_11eb_a657_9cb6d0c60668level0_row8\" class=\"row_heading level0 row8\" >8</th>\n",
       "                        <td id=\"T_c0ae805e_ab86_11eb_a657_9cb6d0c60668row8_col0\" class=\"data row8 col0\" >0.5214</td>\n",
       "                        <td id=\"T_c0ae805e_ab86_11eb_a657_9cb6d0c60668row8_col1\" class=\"data row8 col1\" >0.3974</td>\n",
       "                        <td id=\"T_c0ae805e_ab86_11eb_a657_9cb6d0c60668row8_col2\" class=\"data row8 col2\" >0.6304</td>\n",
       "                        <td id=\"T_c0ae805e_ab86_11eb_a657_9cb6d0c60668row8_col3\" class=\"data row8 col3\" >0.6821</td>\n",
       "                        <td id=\"T_c0ae805e_ab86_11eb_a657_9cb6d0c60668row8_col4\" class=\"data row8 col4\" >-0</td>\n",
       "                        <td id=\"T_c0ae805e_ab86_11eb_a657_9cb6d0c60668row8_col5\" class=\"data row8 col5\" >0.2214</td>\n",
       "            </tr>\n",
       "            <tr>\n",
       "                        <th id=\"T_c0ae805e_ab86_11eb_a657_9cb6d0c60668level0_row9\" class=\"row_heading level0 row9\" >9</th>\n",
       "                        <td id=\"T_c0ae805e_ab86_11eb_a657_9cb6d0c60668row9_col0\" class=\"data row9 col0\" >0.6065</td>\n",
       "                        <td id=\"T_c0ae805e_ab86_11eb_a657_9cb6d0c60668row9_col1\" class=\"data row9 col1\" >0.4869</td>\n",
       "                        <td id=\"T_c0ae805e_ab86_11eb_a657_9cb6d0c60668row9_col2\" class=\"data row9 col2\" >0.6978</td>\n",
       "                        <td id=\"T_c0ae805e_ab86_11eb_a657_9cb6d0c60668row9_col3\" class=\"data row9 col3\" >0.3508</td>\n",
       "                        <td id=\"T_c0ae805e_ab86_11eb_a657_9cb6d0c60668row9_col4\" class=\"data row9 col4\" >-0</td>\n",
       "                        <td id=\"T_c0ae805e_ab86_11eb_a657_9cb6d0c60668row9_col5\" class=\"data row9 col5\" >0.2221</td>\n",
       "            </tr>\n",
       "            <tr>\n",
       "                        <th id=\"T_c0ae805e_ab86_11eb_a657_9cb6d0c60668level0_row10\" class=\"row_heading level0 row10\" >Mean</th>\n",
       "                        <td id=\"T_c0ae805e_ab86_11eb_a657_9cb6d0c60668row10_col0\" class=\"data row10 col0\" >0.5504</td>\n",
       "                        <td id=\"T_c0ae805e_ab86_11eb_a657_9cb6d0c60668row10_col1\" class=\"data row10 col1\" >0.5324</td>\n",
       "                        <td id=\"T_c0ae805e_ab86_11eb_a657_9cb6d0c60668row10_col2\" class=\"data row10 col2\" >0.7055</td>\n",
       "                        <td id=\"T_c0ae805e_ab86_11eb_a657_9cb6d0c60668row10_col3\" class=\"data row10 col3\" >0.579</td>\n",
       "                        <td id=\"T_c0ae805e_ab86_11eb_a657_9cb6d0c60668row10_col4\" class=\"data row10 col4\" >0</td>\n",
       "                        <td id=\"T_c0ae805e_ab86_11eb_a657_9cb6d0c60668row10_col5\" class=\"data row10 col5\" >0.2862</td>\n",
       "            </tr>\n",
       "            <tr>\n",
       "                        <th id=\"T_c0ae805e_ab86_11eb_a657_9cb6d0c60668level0_row11\" class=\"row_heading level0 row11\" >SD</th>\n",
       "                        <td id=\"T_c0ae805e_ab86_11eb_a657_9cb6d0c60668row11_col0\" class=\"data row11 col0\" >0.1438</td>\n",
       "                        <td id=\"T_c0ae805e_ab86_11eb_a657_9cb6d0c60668row11_col1\" class=\"data row11 col1\" >0.26</td>\n",
       "                        <td id=\"T_c0ae805e_ab86_11eb_a657_9cb6d0c60668row11_col2\" class=\"data row11 col2\" >0.1862</td>\n",
       "                        <td id=\"T_c0ae805e_ab86_11eb_a657_9cb6d0c60668row11_col3\" class=\"data row11 col3\" >0.1865</td>\n",
       "                        <td id=\"T_c0ae805e_ab86_11eb_a657_9cb6d0c60668row11_col4\" class=\"data row11 col4\" >0</td>\n",
       "                        <td id=\"T_c0ae805e_ab86_11eb_a657_9cb6d0c60668row11_col5\" class=\"data row11 col5\" >0.0985</td>\n",
       "            </tr>\n",
       "    </tbody></table>"
      ],
      "text/plain": [
       "<pandas.io.formats.style.Styler at 0x252d952da58>"
      ]
     },
     "metadata": {},
     "output_type": "display_data"
    }
   ],
   "source": [
    "# #tune model\n",
    "# catB = pycReg.tune_model(catB, optimize = \"RMSE\", n_iter = 500)"
   ]
  },
  {
   "cell_type": "code",
   "execution_count": 8,
   "metadata": {},
   "outputs": [],
   "source": [
    "import shap\n",
    "explainer = shap.TreeExplainer(catB)\n",
    "shap_values = explainer.shap_values(df.drop(['target'], axis=1).values)"
   ]
  },
  {
   "cell_type": "code",
   "execution_count": 9,
   "metadata": {},
   "outputs": [
    {
     "data": {
      "text/plain": [
       "(117, 10)"
      ]
     },
     "execution_count": 9,
     "metadata": {},
     "output_type": "execute_result"
    }
   ],
   "source": [
    "shap_values.shape"
   ]
  },
  {
   "cell_type": "code",
   "execution_count": 10,
   "metadata": {},
   "outputs": [
    {
     "data": {
      "image/png": "[encoded data removed]",
      "text/plain": [
       "<Figure size 576x396 with 2 Axes>"
      ]
     },
     "metadata": {
      "needs_background": "light"
     },
     "output_type": "display_data"
    }
   ],
   "source": [
    "shap.summary_plot(shap_values, df.drop(['target'], axis=1).values, show=None)\n",
    "plt.savefig('figures/shap_impact_model8.png')"
   ]
  },
  {
   "cell_type": "code",
   "execution_count": 11,
   "metadata": {},
   "outputs": [
    {
     "data": {
      "image/png": "[encoded data removed]",
      "text/plain": [
       "<Figure size 576x396 with 1 Axes>"
      ]
     },
     "metadata": {
      "needs_background": "light"
     },
     "output_type": "display_data"
    }
   ],
   "source": [
    "shap.summary_plot(shap_values, df.drop(['target'], axis=1).values, plot_type='bar', show=None)\n",
    "plt.savefig('figures/shap_contribution_model8.png')"
   ]
  },
  {
   "cell_type": "code",
   "execution_count": null,
   "metadata": {},
   "outputs": [],
   "source": []
  }
 ],
 "metadata": {
  "kernelspec": {
   "display_name": "Python 3",
   "language": "python",
   "name": "python3"
  },
  "language_info": {
   "codemirror_mode": {
    "name": "ipython",
    "version": 3
   },
   "file_extension": ".py",
   "mimetype": "text/x-python",
   "name": "python",
   "nbconvert_exporter": "python",
   "pygments_lexer": "ipython3",
   "version": "3.7.1"
  }
 },
 "nbformat": 4,
 "nbformat_minor": 4
}
